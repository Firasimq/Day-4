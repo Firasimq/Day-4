{
 "cells": [
  {
   "cell_type": "markdown",
   "metadata": {
    "id": "x7F-mxeubDUG"
   },
   "source": [
    "# Python_Lab_2.1\n"
   ]
  },
  {
   "cell_type": "markdown",
   "metadata": {
    "id": "14c6Hn1BbDUH"
   },
   "source": [
    "### Task 1\n",
    "1. Write a function named is_prime that takes a number as a parameter and returns True if the number is prime and False otherwise. Print whether the number 29 is prime."
   ]
  },
  {
   "cell_type": "code",
   "execution_count": 42,
   "metadata": {
    "id": "5e_MZEN0bDUI"
   },
   "outputs": [
    {
     "name": "stdout",
     "output_type": "stream",
     "text": [
      "True\n"
     ]
    }
   ],
   "source": [
    "# write your code here ^_^L\n",
    "\n",
    "def is_prime(x):\n",
    "    \n",
    "    for i in range(2, x):\n",
    "        if x % i == 0:\n",
    "            return False\n",
    "    return True\n",
    "\n",
    "    \n",
    "print(is_prime(29))  "
   ]
  },
  {
   "cell_type": "markdown",
   "metadata": {
    "id": "2zKG8ZcybDUI"
   },
   "source": [
    "### Task 2\n",
    "1. Create a list of 10 numbers and sort them in descending order using the sort() function.\n",
    "2. Use the len() function to print the length of the sorted list.\n",
    "3. Use the zip() function to combine three lists (names, ages, and cities) into a list of tuples.\n",
    "4. Use the range() function to create a list of even numbers from 2 to 20 and print the list."
   ]
  },
  {
   "cell_type": "code",
   "execution_count": 74,
   "metadata": {
    "id": "yyoe__M_bDUI"
   },
   "outputs": [
    {
     "name": "stdout",
     "output_type": "stream",
     "text": [
      "[80, 64, 62, 45, 35, 14, 10, 9, 4, 3]\n",
      "10\n",
      "[('Firas', 24, 'Qassim'), ('Ryan', 30, 'Riyadh'), ('Meshal', 29, 'Zulfi')]\n",
      "[2, 4, 6, 8, 10, 12, 14, 16, 18]\n"
     ]
    }
   ],
   "source": [
    "# write your code here ^_^\n",
    "#1\n",
    "lst = [4, 80, 62, 14, 10, 35, 3, 64, 9, 45]\n",
    "lst.sort(reverse = True)\n",
    "print(lst)\n",
    "\n",
    "#2\n",
    "print(len(lst))\n",
    "\n",
    "#3\n",
    "lst1 = ['Firas', 'Ryan', 'Meshal']\n",
    "lst2 = [24, 30, 29]\n",
    "lst3 = ['Qassim', 'Riyadh', 'Zulfi']\n",
    "\n",
    "lst4 = list(zip(lst1, lst2, lst3))\n",
    "print(lst4)\n",
    "\n",
    "#4\n",
    "e_lst = range(2,20,2)\n",
    "print(list(e_lst))"
   ]
  },
  {
   "cell_type": "markdown",
   "metadata": {
    "id": "aStW5p7AbDUI"
   },
   "source": [
    "### Task 3\n",
    "Build a phone book program that receives the phone number, and returns the name of the owner.\n",
    "You can follow the table below:\n",
    "\n",
    "| Name     | Number     |\n",
    "| -------- | ---------- |\n",
    "| Amal     | 1111111111 |\n",
    "| Mohammed | 2222222222 |\n",
    "| Khadijah | 3333333333 |\n",
    "| Abdullah | 4444444444 |\n",
    "| Rawan    | 5555555555 |\n",
    "| Faisal   | 6666666666 |\n",
    "| Layla    | 7777777777 |\n",
    "\n",
    "- If the number exists, print the owner. Otherwise, print \"Sorry, the number is not found\".\n",
    "- If the number is less or more than 10 numbers, print \"This is invalid number\".\n",
    "- If the number contains letters or symbols, print \"This is invalid number\".\n"
   ]
  },
  {
   "cell_type": "code",
   "execution_count": 149,
   "metadata": {
    "id": "kvXmjUe-bDUJ"
   },
   "outputs": [
    {
     "name": "stdout",
     "output_type": "stream",
     "text": [
      "Layla\n",
      "This is invalid number\n",
      "This is invalid number\n",
      "This is invalid number\n"
     ]
    }
   ],
   "source": [
    "# write your code here ^_^\n",
    "def owner_name(phone_number):\n",
    "    phone_book = {\n",
    "        '1111111111': 'Amal', \n",
    "        '2222222222': 'Mohammed',\n",
    "        '3333333333': 'Khadijah', \n",
    "        '4444444444': 'Abdullah',\n",
    "        '5555555555': 'Rawan',\n",
    "        '6666666666': 'Faisal',\n",
    "        '7777777777': 'Layla'\n",
    "    }\n",
    "\n",
    "    if phone_number in phone_book:\n",
    "        return phone_book[phone_number]\n",
    "\n",
    "\n",
    "    elif len(phone_number) != 10: \n",
    "        return \"This is invalid number\"\n",
    "        \n",
    "    elif phone_number.isdigit():\n",
    "        return \"This is invalid number\"\n",
    "    else:\n",
    "        return \"Sorry, the number is not found\"\n",
    "\n",
    "print(owner_name('7777777777'))  \n",
    "print(owner_name('8888888888'))  \n",
    "print(owner_name('888888888'))\n",
    "print(owner_name('jjjjj'))"
   ]
  },
  {
   "cell_type": "markdown",
   "metadata": {
    "id": "exLHQ28nbDUJ"
   },
   "source": [
    "### Task 4\n",
    "- Given the following list : [5, 4, 17, 19, 30, 2, 7, 10, 45]\n",
    "    1. Use a lambda function to filter out only the odd numbers.\n",
    "    2. Print the new list of odd numbers."
   ]
  },
  {
   "cell_type": "code",
   "execution_count": 217,
   "metadata": {
    "id": "64SUsh1cbDUJ"
   },
   "outputs": [
    {
     "name": "stdout",
     "output_type": "stream",
     "text": [
      "[5, 17, 19, 7, 45]\n"
     ]
    }
   ],
   "source": [
    "# write your code here ^_^\n",
    "lst = [5, 4, 17, 19, 30, 2, 7, 10, 45]\n",
    "\n",
    "my_f = lambda x: x%2!=0\n",
    "odd_lst= [x for x in lst if my_f(x)]\n",
    "print(odd_lst)\n"
   ]
  },
  {
   "cell_type": "code",
   "execution_count": null,
   "metadata": {},
   "outputs": [],
   "source": []
  }
 ],
 "metadata": {
  "colab": {
   "provenance": []
  },
  "kernelspec": {
   "display_name": "Python 3 (ipykernel)",
   "language": "python",
   "name": "python3"
  },
  "language_info": {
   "codemirror_mode": {
    "name": "ipython",
    "version": 3
   },
   "file_extension": ".py",
   "mimetype": "text/x-python",
   "name": "python",
   "nbconvert_exporter": "python",
   "pygments_lexer": "ipython3",
   "version": "3.12.4"
  }
 },
 "nbformat": 4,
 "nbformat_minor": 4
}
